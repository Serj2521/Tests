{
 "cells": [
  {
   "cell_type": "code",
   "execution_count": 1,
   "id": "5713c239",
   "metadata": {},
   "outputs": [],
   "source": [
    "# TEST GIT\n",
    "# Compare half-cell lithium-ion battery models\n",
    "#\n",
    "import pybamm\n",
    "import matplotlib.pyplot as plt"
   ]
  },
  {
   "cell_type": "code",
   "execution_count": 2,
   "id": "9b60b9ef",
   "metadata": {},
   "outputs": [
    {
     "name": "stderr",
     "output_type": "stream",
     "text": [
      "2022-11-30 16:32:05.642 - [INFO] base_model._build_model(572): Start building Single Particle Model\n",
      "2022-11-30 16:32:05.712 - [INFO] base_battery_model.build_model(1019): Finish building Single Particle Model\n",
      "2022-11-30 16:32:05.786 - [INFO] base_model._build_model(572): Start building Single Particle Model with electrolyte\n",
      "2022-11-30 16:32:05.889 - [INFO] base_battery_model.build_model(1019): Finish building Single Particle Model with electrolyte\n",
      "2022-11-30 16:32:05.958 - [INFO] base_model._build_model(572): Start building Doyle-Fuller-Newman model\n",
      "2022-11-30 16:32:06.057 - [INFO] base_battery_model.build_model(1019): Finish building Doyle-Fuller-Newman model\n"
     ]
    }
   ],
   "source": [
    "pybamm.set_logging_level(\"INFO\")\n",
    "\n",
    "# load models\n",
    "models = [\n",
    "    pybamm.lithium_ion.SPM({\"working electrode\": \"positive\"}),\n",
    "    pybamm.lithium_ion.SPMe({\"working electrode\": \"positive\"}),\n",
    "    pybamm.lithium_ion.DFN({\"working electrode\": \"positive\"}),\n",
    "]\n",
    "\n",
    "# Load Chemistry\n",
    "parameter_values = pybamm.ParameterValues(\"Chen2020\")"
   ]
  },
  {
   "cell_type": "code",
   "execution_count": 3,
   "id": "d26e443e",
   "metadata": {},
   "outputs": [
    {
     "name": "stderr",
     "output_type": "stream",
     "text": [
      "2022-11-30 16:32:09.183 - [INFO] callbacks.on_experiment_start(166): Start running experiment\n",
      "2022-11-30 16:32:09.186 - [INFO] parameter_values.process_model(371): Start setting parameters for Single Particle Model\n",
      "2022-11-30 16:32:09.234 - [INFO] parameter_values.process_model(474): Finish setting parameters for Single Particle Model\n",
      "2022-11-30 16:32:09.236 - [INFO] parameter_values.process_model(371): Start setting parameters for Single Particle Model\n",
      "2022-11-30 16:32:09.302 - [INFO] parameter_values.process_model(474): Finish setting parameters for Single Particle Model\n",
      "2022-11-30 16:32:09.305 - [INFO] discretisation.process_model(149): Start discretising Single Particle Model\n",
      "2022-11-30 16:32:09.306 - [INFO] discretisation.remove_independent_variables_from_rhs(1199): removing variable Discharge capacity [A.h] from rhs\n",
      "2022-11-30 16:32:09.518 - [INFO] discretisation.process_model(271): Finish discretising Single Particle Model\n",
      "2022-11-30 16:32:09.519 - [INFO] discretisation.process_model(149): Start discretising Single Particle Model\n",
      "2022-11-30 16:32:09.524 - [INFO] discretisation.remove_independent_variables_from_rhs(1199): removing variable Discharge capacity [A.h] from rhs\n",
      "2022-11-30 16:32:09.719 - [INFO] discretisation.process_model(271): Finish discretising Single Particle Model\n",
      "2022-11-30 16:32:09.720 - [NOTICE] callbacks.on_cycle_start(174): Cycle 1/20 (53.300 us elapsed) --------------------\n",
      "2022-11-30 16:32:09.721 - [NOTICE] callbacks.on_step_start(182): Cycle 1/20, step 1/2: Discharge at C/20 for 1 hour\n",
      "2022-11-30 16:32:09.723 - [INFO] base_solver.set_up(110): Start solver set-up\n",
      "2022-11-30 16:32:09.741 - [INFO] base_solver.set_up(235): Finish solver set-up\n",
      "2022-11-30 16:32:09.834 - [NOTICE] callbacks.on_step_start(182): Cycle 1/20, step 2/2: Rest for 1 hour\n",
      "2022-11-30 16:32:09.836 - [INFO] base_solver.set_up(110): Start solver set-up\n",
      "2022-11-30 16:32:09.857 - [INFO] base_solver.set_up(235): Finish solver set-up\n",
      "2022-11-30 16:32:09.935 - [NOTICE] callbacks.on_cycle_start(174): Cycle 2/20 (215.453 ms elapsed) --------------------\n",
      "2022-11-30 16:32:09.937 - [NOTICE] callbacks.on_step_start(182): Cycle 2/20, step 1/2: Discharge at C/20 for 1 hour\n",
      "2022-11-30 16:32:09.942 - [NOTICE] callbacks.on_step_start(182): Cycle 2/20, step 2/2: Rest for 1 hour\n",
      "2022-11-30 16:32:09.979 - [NOTICE] callbacks.on_cycle_start(174): Cycle 3/20 (259.274 ms elapsed) --------------------\n",
      "2022-11-30 16:32:09.981 - [NOTICE] callbacks.on_step_start(182): Cycle 3/20, step 1/2: Discharge at C/20 for 1 hour\n",
      "2022-11-30 16:32:09.988 - [NOTICE] callbacks.on_step_start(182): Cycle 3/20, step 2/2: Rest for 1 hour\n",
      "2022-11-30 16:32:10.024 - [NOTICE] callbacks.on_cycle_start(174): Cycle 4/20 (304.632 ms elapsed) --------------------\n",
      "2022-11-30 16:32:10.026 - [NOTICE] callbacks.on_step_start(182): Cycle 4/20, step 1/2: Discharge at C/20 for 1 hour\n",
      "2022-11-30 16:32:10.033 - [NOTICE] callbacks.on_step_start(182): Cycle 4/20, step 2/2: Rest for 1 hour\n",
      "2022-11-30 16:32:10.068 - [NOTICE] callbacks.on_cycle_start(174): Cycle 5/20 (346.996 ms elapsed) --------------------\n",
      "2022-11-30 16:32:10.069 - [NOTICE] callbacks.on_step_start(182): Cycle 5/20, step 1/2: Discharge at C/20 for 1 hour\n",
      "2022-11-30 16:32:10.076 - [NOTICE] callbacks.on_step_start(182): Cycle 5/20, step 2/2: Rest for 1 hour\n",
      "2022-11-30 16:32:10.115 - [NOTICE] callbacks.on_cycle_start(174): Cycle 6/20 (395.408 ms elapsed) --------------------\n",
      "2022-11-30 16:32:10.118 - [NOTICE] callbacks.on_step_start(182): Cycle 6/20, step 1/2: Discharge at C/20 for 1 hour\n",
      "2022-11-30 16:32:10.125 - [NOTICE] callbacks.on_step_start(182): Cycle 6/20, step 2/2: Rest for 1 hour\n",
      "2022-11-30 16:32:10.160 - [NOTICE] callbacks.on_cycle_start(174): Cycle 7/20 (439.559 ms elapsed) --------------------\n",
      "2022-11-30 16:32:10.162 - [NOTICE] callbacks.on_step_start(182): Cycle 7/20, step 1/2: Discharge at C/20 for 1 hour\n",
      "2022-11-30 16:32:10.168 - [NOTICE] callbacks.on_step_start(182): Cycle 7/20, step 2/2: Rest for 1 hour\n",
      "2022-11-30 16:32:10.206 - [NOTICE] callbacks.on_cycle_start(174): Cycle 8/20 (485.824 ms elapsed) --------------------\n",
      "2022-11-30 16:32:10.207 - [NOTICE] callbacks.on_step_start(182): Cycle 8/20, step 1/2: Discharge at C/20 for 1 hour\n",
      "2022-11-30 16:32:10.214 - [NOTICE] callbacks.on_step_start(182): Cycle 8/20, step 2/2: Rest for 1 hour\n",
      "2022-11-30 16:32:10.254 - [NOTICE] callbacks.on_cycle_start(174): Cycle 9/20 (533.805 ms elapsed) --------------------\n",
      "2022-11-30 16:32:10.255 - [NOTICE] callbacks.on_step_start(182): Cycle 9/20, step 1/2: Discharge at C/20 for 1 hour\n",
      "2022-11-30 16:32:10.262 - [NOTICE] callbacks.on_step_start(182): Cycle 9/20, step 2/2: Rest for 1 hour\n",
      "2022-11-30 16:32:10.295 - [NOTICE] callbacks.on_cycle_start(174): Cycle 10/20 (574.973 ms elapsed) --------------------\n",
      "2022-11-30 16:32:10.296 - [NOTICE] callbacks.on_step_start(182): Cycle 10/20, step 1/2: Discharge at C/20 for 1 hour\n",
      "2022-11-30 16:32:10.303 - [NOTICE] callbacks.on_step_start(182): Cycle 10/20, step 2/2: Rest for 1 hour\n",
      "2022-11-30 16:32:10.337 - [NOTICE] callbacks.on_cycle_start(174): Cycle 11/20 (617.609 ms elapsed) --------------------\n",
      "2022-11-30 16:32:10.339 - [NOTICE] callbacks.on_step_start(182): Cycle 11/20, step 1/2: Discharge at C/20 for 1 hour\n",
      "2022-11-30 16:32:10.345 - [NOTICE] callbacks.on_step_start(182): Cycle 11/20, step 2/2: Rest for 1 hour\n",
      "2022-11-30 16:32:10.381 - [NOTICE] callbacks.on_cycle_start(174): Cycle 12/20 (660.252 ms elapsed) --------------------\n",
      "2022-11-30 16:32:10.382 - [NOTICE] callbacks.on_step_start(182): Cycle 12/20, step 1/2: Discharge at C/20 for 1 hour\n",
      "2022-11-30 16:32:10.389 - [NOTICE] callbacks.on_step_start(182): Cycle 12/20, step 2/2: Rest for 1 hour\n",
      "2022-11-30 16:32:10.424 - [NOTICE] callbacks.on_cycle_start(174): Cycle 13/20 (704.095 ms elapsed) --------------------\n",
      "2022-11-30 16:32:10.426 - [NOTICE] callbacks.on_step_start(182): Cycle 13/20, step 1/2: Discharge at C/20 for 1 hour\n",
      "2022-11-30 16:32:10.435 - [NOTICE] callbacks.on_step_start(182): Cycle 13/20, step 2/2: Rest for 1 hour\n",
      "2022-11-30 16:32:10.470 - [NOTICE] callbacks.on_cycle_start(174): Cycle 14/20 (749.998 ms elapsed) --------------------\n",
      "2022-11-30 16:32:10.471 - [NOTICE] callbacks.on_step_start(182): Cycle 14/20, step 1/2: Discharge at C/20 for 1 hour\n",
      "2022-11-30 16:32:10.477 - [NOTICE] callbacks.on_step_start(182): Cycle 14/20, step 2/2: Rest for 1 hour\n",
      "2022-11-30 16:32:10.520 - [NOTICE] callbacks.on_cycle_start(174): Cycle 15/20 (800.080 ms elapsed) --------------------\n",
      "2022-11-30 16:32:10.521 - [NOTICE] callbacks.on_step_start(182): Cycle 15/20, step 1/2: Discharge at C/20 for 1 hour\n",
      "2022-11-30 16:32:10.527 - [NOTICE] callbacks.on_step_start(182): Cycle 15/20, step 2/2: Rest for 1 hour\n",
      "2022-11-30 16:32:10.580 - [NOTICE] callbacks.on_cycle_start(174): Cycle 16/20 (859.551 ms elapsed) --------------------\n",
      "2022-11-30 16:32:10.581 - [NOTICE] callbacks.on_step_start(182): Cycle 16/20, step 1/2: Discharge at C/20 for 1 hour\n",
      "2022-11-30 16:32:10.589 - [NOTICE] callbacks.on_step_start(182): Cycle 16/20, step 2/2: Rest for 1 hour\n",
      "2022-11-30 16:32:10.636 - [NOTICE] callbacks.on_cycle_start(174): Cycle 17/20 (915.254 ms elapsed) --------------------\n",
      "2022-11-30 16:32:10.638 - [NOTICE] callbacks.on_step_start(182): Cycle 17/20, step 1/2: Discharge at C/20 for 1 hour\n",
      "2022-11-30 16:32:10.643 - [NOTICE] callbacks.on_step_start(182): Cycle 17/20, step 2/2: Rest for 1 hour\n",
      "2022-11-30 16:32:10.686 - [NOTICE] callbacks.on_cycle_start(174): Cycle 18/20 (965.181 ms elapsed) --------------------\n",
      "2022-11-30 16:32:10.687 - [NOTICE] callbacks.on_step_start(182): Cycle 18/20, step 1/2: Discharge at C/20 for 1 hour\n",
      "2022-11-30 16:32:10.693 - [NOTICE] callbacks.on_step_start(182): Cycle 18/20, step 2/2: Rest for 1 hour\n",
      "2022-11-30 16:32:10.726 - [NOTICE] callbacks.on_cycle_start(174): Cycle 19/20 (1.006 s elapsed) --------------------\n",
      "2022-11-30 16:32:10.728 - [NOTICE] callbacks.on_step_start(182): Cycle 19/20, step 1/2: Discharge at C/20 for 1 hour\n",
      "2022-11-30 16:32:10.733 - [NOTICE] callbacks.on_step_start(182): Cycle 19/20, step 2/2: Rest for 1 hour\n",
      "2022-11-30 16:32:10.762 - [NOTICE] callbacks.on_cycle_start(174): Cycle 20/20 (1.042 s elapsed) --------------------\n",
      "2022-11-30 16:32:10.763 - [NOTICE] callbacks.on_step_start(182): Cycle 20/20, step 1/2: Discharge at C/20 for 1 hour\n"
     ]
    },
    {
     "name": "stderr",
     "output_type": "stream",
     "text": [
      "2022-11-30 16:32:10.770 - [NOTICE] callbacks.on_step_start(182): Cycle 20/20, step 2/2: Rest for 1 hour\n",
      "2022-11-30 16:32:10.803 - [NOTICE] callbacks.on_experiment_end(222): Finish experiment simulation, took 1.082 s\n",
      "2022-11-30 16:32:10.804 - [INFO] callbacks.on_experiment_start(166): Start running experiment\n",
      "2022-11-30 16:32:10.808 - [INFO] parameter_values.process_model(371): Start setting parameters for Single Particle Model with electrolyte\n",
      "2022-11-30 16:32:10.940 - [INFO] parameter_values.process_model(474): Finish setting parameters for Single Particle Model with electrolyte\n",
      "2022-11-30 16:32:10.943 - [INFO] parameter_values.process_model(371): Start setting parameters for Single Particle Model with electrolyte\n",
      "2022-11-30 16:32:11.069 - [INFO] parameter_values.process_model(474): Finish setting parameters for Single Particle Model with electrolyte\n",
      "2022-11-30 16:32:11.072 - [INFO] discretisation.process_model(149): Start discretising Single Particle Model with electrolyte\n",
      "2022-11-30 16:32:11.075 - [INFO] discretisation.remove_independent_variables_from_rhs(1199): removing variable Discharge capacity [A.h] from rhs\n",
      "2022-11-30 16:32:11.494 - [INFO] discretisation.process_model(271): Finish discretising Single Particle Model with electrolyte\n",
      "2022-11-30 16:32:11.496 - [INFO] discretisation.process_model(149): Start discretising Single Particle Model with electrolyte\n",
      "2022-11-30 16:32:11.499 - [INFO] discretisation.remove_independent_variables_from_rhs(1199): removing variable Discharge capacity [A.h] from rhs\n",
      "2022-11-30 16:32:11.822 - [INFO] discretisation.process_model(271): Finish discretising Single Particle Model with electrolyte\n",
      "2022-11-30 16:32:11.824 - [NOTICE] callbacks.on_cycle_start(174): Cycle 1/20 (51.600 us elapsed) --------------------\n",
      "2022-11-30 16:32:11.824 - [NOTICE] callbacks.on_step_start(182): Cycle 1/20, step 1/2: Discharge at C/20 for 1 hour\n",
      "2022-11-30 16:32:11.828 - [INFO] base_solver.set_up(110): Start solver set-up\n",
      "2022-11-30 16:32:11.896 - [INFO] base_solver.set_up(235): Finish solver set-up\n",
      "2022-11-30 16:32:11.913 - [NOTICE] callbacks.on_step_start(182): Cycle 1/20, step 2/2: Rest for 1 hour\n",
      "2022-11-30 16:32:11.919 - [INFO] base_solver.set_up(110): Start solver set-up\n",
      "2022-11-30 16:32:11.971 - [INFO] base_solver.set_up(235): Finish solver set-up\n",
      "2022-11-30 16:32:12.123 - [NOTICE] callbacks.on_cycle_start(174): Cycle 2/20 (298.593 ms elapsed) --------------------\n",
      "2022-11-30 16:32:12.124 - [NOTICE] callbacks.on_step_start(182): Cycle 2/20, step 1/2: Discharge at C/20 for 1 hour\n",
      "2022-11-30 16:32:12.136 - [NOTICE] callbacks.on_step_start(182): Cycle 2/20, step 2/2: Rest for 1 hour\n",
      "2022-11-30 16:32:12.204 - [NOTICE] callbacks.on_cycle_start(174): Cycle 3/20 (379.527 ms elapsed) --------------------\n",
      "2022-11-30 16:32:12.205 - [NOTICE] callbacks.on_step_start(182): Cycle 3/20, step 1/2: Discharge at C/20 for 1 hour\n",
      "2022-11-30 16:32:12.219 - [NOTICE] callbacks.on_step_start(182): Cycle 3/20, step 2/2: Rest for 1 hour\n",
      "2022-11-30 16:32:12.262 - [NOTICE] callbacks.on_cycle_start(174): Cycle 4/20 (437.908 ms elapsed) --------------------\n",
      "2022-11-30 16:32:12.263 - [NOTICE] callbacks.on_step_start(182): Cycle 4/20, step 1/2: Discharge at C/20 for 1 hour\n",
      "2022-11-30 16:32:12.278 - [NOTICE] callbacks.on_step_start(182): Cycle 4/20, step 2/2: Rest for 1 hour\n",
      "2022-11-30 16:32:12.327 - [NOTICE] callbacks.on_cycle_start(174): Cycle 5/20 (503.416 ms elapsed) --------------------\n",
      "2022-11-30 16:32:12.329 - [NOTICE] callbacks.on_step_start(182): Cycle 5/20, step 1/2: Discharge at C/20 for 1 hour\n",
      "2022-11-30 16:32:12.342 - [NOTICE] callbacks.on_step_start(182): Cycle 5/20, step 2/2: Rest for 1 hour\n",
      "2022-11-30 16:32:12.394 - [NOTICE] callbacks.on_cycle_start(174): Cycle 6/20 (570.200 ms elapsed) --------------------\n",
      "2022-11-30 16:32:12.395 - [NOTICE] callbacks.on_step_start(182): Cycle 6/20, step 1/2: Discharge at C/20 for 1 hour\n",
      "2022-11-30 16:32:12.408 - [NOTICE] callbacks.on_step_start(182): Cycle 6/20, step 2/2: Rest for 1 hour\n",
      "2022-11-30 16:32:12.463 - [NOTICE] callbacks.on_cycle_start(174): Cycle 7/20 (638.999 ms elapsed) --------------------\n",
      "2022-11-30 16:32:12.465 - [NOTICE] callbacks.on_step_start(182): Cycle 7/20, step 1/2: Discharge at C/20 for 1 hour\n",
      "2022-11-30 16:32:12.477 - [NOTICE] callbacks.on_step_start(182): Cycle 7/20, step 2/2: Rest for 1 hour\n",
      "2022-11-30 16:32:12.533 - [NOTICE] callbacks.on_cycle_start(174): Cycle 8/20 (709.092 ms elapsed) --------------------\n",
      "2022-11-30 16:32:12.535 - [NOTICE] callbacks.on_step_start(182): Cycle 8/20, step 1/2: Discharge at C/20 for 1 hour\n",
      "2022-11-30 16:32:12.548 - [NOTICE] callbacks.on_step_start(182): Cycle 8/20, step 2/2: Rest for 1 hour\n",
      "2022-11-30 16:32:12.600 - [NOTICE] callbacks.on_cycle_start(174): Cycle 9/20 (776.843 ms elapsed) --------------------\n",
      "2022-11-30 16:32:12.602 - [NOTICE] callbacks.on_step_start(182): Cycle 9/20, step 1/2: Discharge at C/20 for 1 hour\n",
      "2022-11-30 16:32:12.615 - [NOTICE] callbacks.on_step_start(182): Cycle 9/20, step 2/2: Rest for 1 hour\n",
      "2022-11-30 16:32:12.667 - [NOTICE] callbacks.on_cycle_start(174): Cycle 10/20 (843.536 ms elapsed) --------------------\n",
      "2022-11-30 16:32:12.668 - [NOTICE] callbacks.on_step_start(182): Cycle 10/20, step 1/2: Discharge at C/20 for 1 hour\n",
      "2022-11-30 16:32:12.799 - [NOTICE] callbacks.on_step_start(182): Cycle 10/20, step 2/2: Rest for 1 hour\n",
      "2022-11-30 16:32:12.840 - [NOTICE] callbacks.on_cycle_start(174): Cycle 11/20 (1.016 s elapsed) --------------------\n",
      "2022-11-30 16:32:12.841 - [NOTICE] callbacks.on_step_start(182): Cycle 11/20, step 1/2: Discharge at C/20 for 1 hour\n",
      "2022-11-30 16:32:12.855 - [NOTICE] callbacks.on_step_start(182): Cycle 11/20, step 2/2: Rest for 1 hour\n",
      "2022-11-30 16:32:12.900 - [NOTICE] callbacks.on_cycle_start(174): Cycle 12/20 (1.077 s elapsed) --------------------\n",
      "2022-11-30 16:32:12.902 - [NOTICE] callbacks.on_step_start(182): Cycle 12/20, step 1/2: Discharge at C/20 for 1 hour\n",
      "2022-11-30 16:32:12.915 - [NOTICE] callbacks.on_step_start(182): Cycle 12/20, step 2/2: Rest for 1 hour\n",
      "2022-11-30 16:32:12.970 - [NOTICE] callbacks.on_cycle_start(174): Cycle 13/20 (1.145 s elapsed) --------------------\n",
      "2022-11-30 16:32:12.972 - [NOTICE] callbacks.on_step_start(182): Cycle 13/20, step 1/2: Discharge at C/20 for 1 hour\n",
      "2022-11-30 16:32:12.982 - [NOTICE] callbacks.on_step_start(182): Cycle 13/20, step 2/2: Rest for 1 hour\n",
      "2022-11-30 16:32:13.039 - [NOTICE] callbacks.on_cycle_start(174): Cycle 14/20 (1.215 s elapsed) --------------------\n",
      "2022-11-30 16:32:13.039 - [NOTICE] callbacks.on_step_start(182): Cycle 14/20, step 1/2: Discharge at C/20 for 1 hour\n",
      "2022-11-30 16:32:13.051 - [NOTICE] callbacks.on_step_start(182): Cycle 14/20, step 2/2: Rest for 1 hour\n",
      "2022-11-30 16:32:13.102 - [NOTICE] callbacks.on_cycle_start(174): Cycle 15/20 (1.278 s elapsed) --------------------\n",
      "2022-11-30 16:32:13.103 - [NOTICE] callbacks.on_step_start(182): Cycle 15/20, step 1/2: Discharge at C/20 for 1 hour\n",
      "2022-11-30 16:32:13.114 - [NOTICE] callbacks.on_step_start(182): Cycle 15/20, step 2/2: Rest for 1 hour\n",
      "2022-11-30 16:32:13.158 - [NOTICE] callbacks.on_cycle_start(174): Cycle 16/20 (1.333 s elapsed) --------------------\n",
      "2022-11-30 16:32:13.158 - [NOTICE] callbacks.on_step_start(182): Cycle 16/20, step 1/2: Discharge at C/20 for 1 hour\n",
      "2022-11-30 16:32:13.170 - [NOTICE] callbacks.on_step_start(182): Cycle 16/20, step 2/2: Rest for 1 hour\n",
      "2022-11-30 16:32:13.218 - [NOTICE] callbacks.on_cycle_start(174): Cycle 17/20 (1.394 s elapsed) --------------------\n",
      "2022-11-30 16:32:13.219 - [NOTICE] callbacks.on_step_start(182): Cycle 17/20, step 1/2: Discharge at C/20 for 1 hour\n",
      "2022-11-30 16:32:13.232 - [NOTICE] callbacks.on_step_start(182): Cycle 17/20, step 2/2: Rest for 1 hour\n",
      "2022-11-30 16:32:13.279 - [NOTICE] callbacks.on_cycle_start(174): Cycle 18/20 (1.455 s elapsed) --------------------\n",
      "2022-11-30 16:32:13.282 - [NOTICE] callbacks.on_step_start(182): Cycle 18/20, step 1/2: Discharge at C/20 for 1 hour\n",
      "2022-11-30 16:32:13.293 - [NOTICE] callbacks.on_step_start(182): Cycle 18/20, step 2/2: Rest for 1 hour\n",
      "2022-11-30 16:32:13.341 - [NOTICE] callbacks.on_cycle_start(174): Cycle 19/20 (1.516 s elapsed) --------------------\n",
      "2022-11-30 16:32:13.341 - [NOTICE] callbacks.on_step_start(182): Cycle 19/20, step 1/2: Discharge at C/20 for 1 hour\n"
     ]
    },
    {
     "name": "stderr",
     "output_type": "stream",
     "text": [
      "2022-11-30 16:32:13.356 - [NOTICE] callbacks.on_step_start(182): Cycle 19/20, step 2/2: Rest for 1 hour\n",
      "2022-11-30 16:32:13.400 - [NOTICE] callbacks.on_cycle_start(174): Cycle 20/20 (1.576 s elapsed) --------------------\n",
      "2022-11-30 16:32:13.402 - [NOTICE] callbacks.on_step_start(182): Cycle 20/20, step 1/2: Discharge at C/20 for 1 hour\n",
      "2022-11-30 16:32:13.414 - [NOTICE] callbacks.on_step_start(182): Cycle 20/20, step 2/2: Rest for 1 hour\n",
      "2022-11-30 16:32:13.462 - [NOTICE] callbacks.on_experiment_end(222): Finish experiment simulation, took 1.638 s\n",
      "2022-11-30 16:32:13.466 - [INFO] callbacks.on_experiment_start(166): Start running experiment\n",
      "2022-11-30 16:32:13.469 - [INFO] parameter_values.process_model(371): Start setting parameters for Doyle-Fuller-Newman model\n",
      "2022-11-30 16:32:13.592 - [INFO] parameter_values.process_model(474): Finish setting parameters for Doyle-Fuller-Newman model\n",
      "2022-11-30 16:32:13.594 - [INFO] parameter_values.process_model(371): Start setting parameters for Doyle-Fuller-Newman model\n",
      "2022-11-30 16:32:13.709 - [INFO] parameter_values.process_model(474): Finish setting parameters for Doyle-Fuller-Newman model\n",
      "2022-11-30 16:32:13.715 - [INFO] discretisation.process_model(149): Start discretising Doyle-Fuller-Newman model\n",
      "2022-11-30 16:32:13.724 - [INFO] discretisation.remove_independent_variables_from_rhs(1199): removing variable Discharge capacity [A.h] from rhs\n",
      "2022-11-30 16:32:14.196 - [INFO] discretisation.process_model(271): Finish discretising Doyle-Fuller-Newman model\n",
      "2022-11-30 16:32:14.198 - [INFO] discretisation.process_model(149): Start discretising Doyle-Fuller-Newman model\n",
      "2022-11-30 16:32:14.204 - [INFO] discretisation.remove_independent_variables_from_rhs(1199): removing variable Discharge capacity [A.h] from rhs\n",
      "2022-11-30 16:32:14.657 - [INFO] discretisation.process_model(271): Finish discretising Doyle-Fuller-Newman model\n",
      "2022-11-30 16:32:14.658 - [NOTICE] callbacks.on_cycle_start(174): Cycle 1/20 (78.800 us elapsed) --------------------\n",
      "2022-11-30 16:32:14.659 - [NOTICE] callbacks.on_step_start(182): Cycle 1/20, step 1/2: Discharge at C/20 for 1 hour\n",
      "2022-11-30 16:32:14.664 - [INFO] base_solver.set_up(110): Start solver set-up\n",
      "2022-11-30 16:32:14.803 - [INFO] base_solver.set_up(235): Finish solver set-up\n",
      "2022-11-30 16:32:15.062 - [NOTICE] callbacks.on_step_start(182): Cycle 1/20, step 2/2: Rest for 1 hour\n",
      "2022-11-30 16:32:15.068 - [INFO] base_solver.set_up(110): Start solver set-up\n",
      "2022-11-30 16:32:15.198 - [INFO] base_solver.set_up(235): Finish solver set-up\n",
      "2022-11-30 16:32:15.479 - [NOTICE] callbacks.on_cycle_start(174): Cycle 2/20 (821.098 ms elapsed) --------------------\n",
      "2022-11-30 16:32:15.481 - [NOTICE] callbacks.on_step_start(182): Cycle 2/20, step 1/2: Discharge at C/20 for 1 hour\n",
      "2022-11-30 16:32:15.622 - [NOTICE] callbacks.on_step_start(182): Cycle 2/20, step 2/2: Rest for 1 hour\n",
      "2022-11-30 16:32:15.776 - [NOTICE] callbacks.on_cycle_start(174): Cycle 3/20 (1.118 s elapsed) --------------------\n",
      "2022-11-30 16:32:15.777 - [NOTICE] callbacks.on_step_start(182): Cycle 3/20, step 1/2: Discharge at C/20 for 1 hour\n",
      "2022-11-30 16:32:15.896 - [NOTICE] callbacks.on_step_start(182): Cycle 3/20, step 2/2: Rest for 1 hour\n",
      "2022-11-30 16:32:16.036 - [NOTICE] callbacks.on_cycle_start(174): Cycle 4/20 (1.379 s elapsed) --------------------\n",
      "2022-11-30 16:32:16.038 - [NOTICE] callbacks.on_step_start(182): Cycle 4/20, step 1/2: Discharge at C/20 for 1 hour\n",
      "2022-11-30 16:32:16.153 - [NOTICE] callbacks.on_step_start(182): Cycle 4/20, step 2/2: Rest for 1 hour\n",
      "2022-11-30 16:32:16.307 - [NOTICE] callbacks.on_cycle_start(174): Cycle 5/20 (1.649 s elapsed) --------------------\n",
      "2022-11-30 16:32:16.308 - [NOTICE] callbacks.on_step_start(182): Cycle 5/20, step 1/2: Discharge at C/20 for 1 hour\n",
      "2022-11-30 16:32:16.425 - [NOTICE] callbacks.on_step_start(182): Cycle 5/20, step 2/2: Rest for 1 hour\n",
      "2022-11-30 16:32:16.594 - [NOTICE] callbacks.on_cycle_start(174): Cycle 6/20 (1.937 s elapsed) --------------------\n",
      "2022-11-30 16:32:16.596 - [NOTICE] callbacks.on_step_start(182): Cycle 6/20, step 1/2: Discharge at C/20 for 1 hour\n",
      "2022-11-30 16:32:16.705 - [NOTICE] callbacks.on_step_start(182): Cycle 6/20, step 2/2: Rest for 1 hour\n",
      "2022-11-30 16:32:16.846 - [NOTICE] callbacks.on_cycle_start(174): Cycle 7/20 (2.189 s elapsed) --------------------\n",
      "2022-11-30 16:32:16.847 - [NOTICE] callbacks.on_step_start(182): Cycle 7/20, step 1/2: Discharge at C/20 for 1 hour\n",
      "2022-11-30 16:32:16.943 - [NOTICE] callbacks.on_step_start(182): Cycle 7/20, step 2/2: Rest for 1 hour\n",
      "2022-11-30 16:32:17.089 - [NOTICE] callbacks.on_cycle_start(174): Cycle 8/20 (2.431 s elapsed) --------------------\n",
      "2022-11-30 16:32:17.090 - [NOTICE] callbacks.on_step_start(182): Cycle 8/20, step 1/2: Discharge at C/20 for 1 hour\n",
      "2022-11-30 16:32:17.202 - [NOTICE] callbacks.on_step_start(182): Cycle 8/20, step 2/2: Rest for 1 hour\n",
      "2022-11-30 16:32:17.351 - [NOTICE] callbacks.on_cycle_start(174): Cycle 9/20 (2.693 s elapsed) --------------------\n",
      "2022-11-30 16:32:17.352 - [NOTICE] callbacks.on_step_start(182): Cycle 9/20, step 1/2: Discharge at C/20 for 1 hour\n",
      "2022-11-30 16:32:17.451 - [NOTICE] callbacks.on_step_start(182): Cycle 9/20, step 2/2: Rest for 1 hour\n",
      "2022-11-30 16:32:17.603 - [NOTICE] callbacks.on_cycle_start(174): Cycle 10/20 (2.945 s elapsed) --------------------\n",
      "2022-11-30 16:32:17.604 - [NOTICE] callbacks.on_step_start(182): Cycle 10/20, step 1/2: Discharge at C/20 for 1 hour\n",
      "2022-11-30 16:32:17.723 - [NOTICE] callbacks.on_step_start(182): Cycle 10/20, step 2/2: Rest for 1 hour\n",
      "2022-11-30 16:32:17.871 - [NOTICE] callbacks.on_cycle_start(174): Cycle 11/20 (3.214 s elapsed) --------------------\n",
      "2022-11-30 16:32:17.873 - [NOTICE] callbacks.on_step_start(182): Cycle 11/20, step 1/2: Discharge at C/20 for 1 hour\n",
      "2022-11-30 16:32:17.986 - [NOTICE] callbacks.on_step_start(182): Cycle 11/20, step 2/2: Rest for 1 hour\n",
      "2022-11-30 16:32:18.140 - [NOTICE] callbacks.on_cycle_start(174): Cycle 12/20 (3.482 s elapsed) --------------------\n",
      "2022-11-30 16:32:18.141 - [NOTICE] callbacks.on_step_start(182): Cycle 12/20, step 1/2: Discharge at C/20 for 1 hour\n",
      "2022-11-30 16:32:18.259 - [NOTICE] callbacks.on_step_start(182): Cycle 12/20, step 2/2: Rest for 1 hour\n",
      "2022-11-30 16:32:18.408 - [NOTICE] callbacks.on_cycle_start(174): Cycle 13/20 (3.751 s elapsed) --------------------\n",
      "2022-11-30 16:32:18.410 - [NOTICE] callbacks.on_step_start(182): Cycle 13/20, step 1/2: Discharge at C/20 for 1 hour\n",
      "2022-11-30 16:32:18.515 - [NOTICE] callbacks.on_step_start(182): Cycle 13/20, step 2/2: Rest for 1 hour\n",
      "2022-11-30 16:32:18.689 - [NOTICE] callbacks.on_cycle_start(174): Cycle 14/20 (4.032 s elapsed) --------------------\n",
      "2022-11-30 16:32:18.690 - [NOTICE] callbacks.on_step_start(182): Cycle 14/20, step 1/2: Discharge at C/20 for 1 hour\n",
      "2022-11-30 16:32:18.794 - [NOTICE] callbacks.on_step_start(182): Cycle 14/20, step 2/2: Rest for 1 hour\n",
      "2022-11-30 16:32:18.945 - [NOTICE] callbacks.on_cycle_start(174): Cycle 15/20 (4.288 s elapsed) --------------------\n",
      "2022-11-30 16:32:18.947 - [NOTICE] callbacks.on_step_start(182): Cycle 15/20, step 1/2: Discharge at C/20 for 1 hour\n",
      "2022-11-30 16:32:19.046 - [NOTICE] callbacks.on_step_start(182): Cycle 15/20, step 2/2: Rest for 1 hour\n",
      "2022-11-30 16:32:19.195 - [NOTICE] callbacks.on_cycle_start(174): Cycle 16/20 (4.538 s elapsed) --------------------\n",
      "2022-11-30 16:32:19.196 - [NOTICE] callbacks.on_step_start(182): Cycle 16/20, step 1/2: Discharge at C/20 for 1 hour\n",
      "2022-11-30 16:32:19.304 - [NOTICE] callbacks.on_step_start(182): Cycle 16/20, step 2/2: Rest for 1 hour\n",
      "2022-11-30 16:32:19.448 - [NOTICE] callbacks.on_cycle_start(174): Cycle 17/20 (4.791 s elapsed) --------------------\n",
      "2022-11-30 16:32:19.449 - [NOTICE] callbacks.on_step_start(182): Cycle 17/20, step 1/2: Discharge at C/20 for 1 hour\n",
      "2022-11-30 16:32:19.556 - [NOTICE] callbacks.on_step_start(182): Cycle 17/20, step 2/2: Rest for 1 hour\n",
      "2022-11-30 16:32:19.724 - [NOTICE] callbacks.on_cycle_start(174): Cycle 18/20 (5.067 s elapsed) --------------------\n",
      "2022-11-30 16:32:19.726 - [NOTICE] callbacks.on_step_start(182): Cycle 18/20, step 1/2: Discharge at C/20 for 1 hour\n",
      "2022-11-30 16:32:19.836 - [NOTICE] callbacks.on_step_start(182): Cycle 18/20, step 2/2: Rest for 1 hour\n"
     ]
    },
    {
     "name": "stderr",
     "output_type": "stream",
     "text": [
      "2022-11-30 16:32:19.984 - [NOTICE] callbacks.on_cycle_start(174): Cycle 19/20 (5.326 s elapsed) --------------------\n",
      "2022-11-30 16:32:19.986 - [NOTICE] callbacks.on_step_start(182): Cycle 19/20, step 1/2: Discharge at C/20 for 1 hour\n",
      "2022-11-30 16:32:20.106 - [NOTICE] callbacks.on_step_start(182): Cycle 19/20, step 2/2: Rest for 1 hour\n",
      "2022-11-30 16:32:20.256 - [NOTICE] callbacks.on_cycle_start(174): Cycle 20/20 (5.598 s elapsed) --------------------\n",
      "2022-11-30 16:32:20.258 - [NOTICE] callbacks.on_step_start(182): Cycle 20/20, step 1/2: Discharge at C/20 for 1 hour\n",
      "2022-11-30 16:32:20.375 - [NOTICE] callbacks.on_step_start(182): Cycle 20/20, step 2/2: Rest for 1 hour\n",
      "2022-11-30 16:32:20.536 - [NOTICE] callbacks.on_experiment_end(222): Finish experiment simulation, took 5.878 s\n"
     ]
    }
   ],
   "source": [
    "#\n",
    "# GITT discharge\n",
    "#\n",
    "\n",
    "experiment = pybamm.Experiment(\n",
    "    [(\"Discharge at C/20 for 1 hour\", \"Rest for 1 hour\")] * 20,\n",
    ")\n",
    "\n",
    "# Run simulations\n",
    "sims = []\n",
    "for model in models:\n",
    "    sim = pybamm.Simulation(model, experiment=experiment, solver=pybamm.CasadiSolver())\n",
    "    sim.solve()\n",
    "    sims.append(sim)\n"
   ]
  },
  {
   "cell_type": "code",
   "execution_count": 4,
   "id": "e6b7ae37",
   "metadata": {},
   "outputs": [
    {
     "data": {
      "application/vnd.jupyter.widget-view+json": {
       "model_id": "3d6624079a0f49bdb309cf1ab78f6034",
       "version_major": 2,
       "version_minor": 0
      },
      "text/plain": [
       "interactive(children=(FloatSlider(value=0.0, description='t', max=39.99999999999998, step=0.3999999999999998),…"
      ]
     },
     "metadata": {},
     "output_type": "display_data"
    },
    {
     "data": {
      "text/plain": [
       "<pybamm.plotting.quick_plot.QuickPlot at 0x2c5c189cbe0>"
      ]
     },
     "execution_count": 4,
     "metadata": {},
     "output_type": "execute_result"
    }
   ],
   "source": [
    "# plot\n",
    "pybamm.dynamic_plot(sims)"
   ]
  },
  {
   "cell_type": "code",
   "execution_count": 9,
   "id": "b919e5af",
   "metadata": {},
   "outputs": [
    {
     "data": {
      "application/vnd.jupyter.widget-view+json": {
       "model_id": "eab03647328244d0adb8e7b033672ef8",
       "version_major": 2,
       "version_minor": 0
      },
      "text/plain": [
       "interactive(children=(FloatSlider(value=0.0, description='t', max=39.99999999999998, step=0.3999999999999998),…"
      ]
     },
     "metadata": {},
     "output_type": "display_data"
    },
    {
     "data": {
      "text/plain": [
       "<pybamm.plotting.quick_plot.QuickPlot at 0x1d2c5feffa0>"
      ]
     },
     "execution_count": 9,
     "metadata": {},
     "output_type": "execute_result"
    }
   ],
   "source": [
    "# plot\n",
    "pybamm.dynamic_plot(\n",
    "    sims,\n",
    "    [\n",
    "         \"Positive electrode interfacial current density [A.m-2]\",\n",
    "    ],\n",
    ")"
   ]
  },
  {
   "cell_type": "code",
   "execution_count": null,
   "id": "cf316c25",
   "metadata": {},
   "outputs": [],
   "source": []
  }
 ],
 "metadata": {
  "kernelspec": {
   "display_name": "Python 3 (ipykernel)",
   "language": "python",
   "name": "python3"
  },
  "language_info": {
   "codemirror_mode": {
    "name": "ipython",
    "version": 3
   },
   "file_extension": ".py",
   "mimetype": "text/x-python",
   "name": "python",
   "nbconvert_exporter": "python",
   "pygments_lexer": "ipython3",
   "version": "3.9.7"
  }
 },
 "nbformat": 4,
 "nbformat_minor": 5
}
